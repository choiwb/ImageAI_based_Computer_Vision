{
 "cells": [
  {
   "cell_type": "code",
   "execution_count": 10,
   "metadata": {},
   "outputs": [],
   "source": [
    "from imageai.Detection.Custom import CustomObjectDetection"
   ]
  },
  {
   "cell_type": "code",
   "execution_count": 11,
   "metadata": {},
   "outputs": [],
   "source": [
    "detector = CustomObjectDetection()\n",
    "detector.setModelTypeAsYOLOv3()\n",
    "detector.setModelPath(\"/Users/wbchoi/PycharmProjects/ai_projects/ImageAI_test/BCCD/models/map_0_dot_9553.h5\")\n",
    "detector.setJsonPath(\"/Users/wbchoi/PycharmProjects/ai_projects/ImageAI_test/BCCD/json/detection_config.json\")\n",
    "detector.loadModel()"
   ]
  },
  {
   "cell_type": "code",
   "execution_count": 18,
   "metadata": {},
   "outputs": [],
   "source": [
    "detections = detector.detectObjectsFromImage(input_image=\"circuit_007.jpg\", \n",
    "                                    output_image_path=\"circuit_007_det.jpg\",\n",
    "                                    minimum_percentage_probability = 80,\n",
    "                                    display_percentage_probability = True,\n",
    "                                    display_object_name = True) "
   ]
  },
  {
   "cell_type": "code",
   "execution_count": 19,
   "metadata": {},
   "outputs": [
    {
     "name": "stdout",
     "output_type": "stream",
     "text": [
      "usb  :  99.77341294288635  :  [43, 167, 217, 288]\n",
      "rprog  :  82.78186917304993  :  [231, 333, 278, 366]\n",
      "rprog  :  95.48666477203369  :  [218, 328, 304, 375]\n",
      "charge  :  88.32142353057861  :  [305, 99, 350, 147]\n",
      "done  :  80.0292432308197  :  [305, 99, 350, 147]\n",
      "batt+  :  97.40055799484253  :  [393, 100, 436, 140]\n",
      "batt-  :  95.20151019096375  :  [393, 328, 442, 369]\n",
      "done  :  85.99483370780945  :  [343, 99, 384, 150]\n"
     ]
    }
   ],
   "source": [
    "for detection in detections:\n",
    "    print(detection[\"name\"], \" : \", detection[\"percentage_probability\"], \" : \", detection[\"box_points\"])"
   ]
  },
  {
   "cell_type": "code",
   "execution_count": null,
   "metadata": {},
   "outputs": [],
   "source": []
  }
 ],
 "metadata": {
  "kernelspec": {
   "display_name": "Python 3",
   "language": "python",
   "name": "python3"
  },
  "language_info": {
   "codemirror_mode": {
    "name": "ipython",
    "version": 3
   },
   "file_extension": ".py",
   "mimetype": "text/x-python",
   "name": "python",
   "nbconvert_exporter": "python",
   "pygments_lexer": "ipython3",
   "version": "3.7.3"
  }
 },
 "nbformat": 4,
 "nbformat_minor": 2
}
