{
 "cells": [
  {
   "cell_type": "code",
   "execution_count": 1,
   "metadata": {},
   "outputs": [
    {
     "name": "stderr",
     "output_type": "stream",
     "text": [
      "Using TensorFlow backend.\n"
     ]
    }
   ],
   "source": [
    "from imageai.Detection import ObjectDetection\n",
    "import os"
   ]
  },
  {
   "cell_type": "code",
   "execution_count": 3,
   "metadata": {},
   "outputs": [
    {
     "name": "stdout",
     "output_type": "stream",
     "text": [
      "tracking <tf.Variable 'Variable_5:0' shape=(9, 4) dtype=float32> anchors\n",
      "tracking <tf.Variable 'Variable_6:0' shape=(9, 4) dtype=float32> anchors\n",
      "tracking <tf.Variable 'Variable_7:0' shape=(9, 4) dtype=float32> anchors\n",
      "tracking <tf.Variable 'Variable_8:0' shape=(9, 4) dtype=float32> anchors\n",
      "tracking <tf.Variable 'Variable_9:0' shape=(9, 4) dtype=float32> anchors\n"
     ]
    }
   ],
   "source": [
    "execution_path = os.getcwd()\n",
    "\n",
    "detector = ObjectDetection()\n",
    "detector.setModelTypeAsRetinaNet()\n",
    "\n",
    "# COCO 데이터셋 기반 훈련된 Resnet50 모델 호출\n",
    "detector.setModelPath( os.path.join(execution_path , \"resnet50_coco_best_v2.0.1.h5\"))\n",
    "\n",
    "detector.loadModel()\n",
    "detections = detector.detectObjectsFromImage(input_image=os.path.join(execution_path , \n",
    "                \"london_bus.jpg\"), output_image_path=os.path.join(execution_path , \"london_bus_det.jpg\"))\n"
   ]
  },
  {
   "cell_type": "code",
   "execution_count": 4,
   "metadata": {},
   "outputs": [
    {
     "name": "stdout",
     "output_type": "stream",
     "text": [
      "person  :  57.95765519142151\n",
      "person  :  82.74770379066467\n",
      "car  :  65.50281047821045\n",
      "car  :  80.03410696983337\n",
      "person  :  82.12524652481079\n",
      "person  :  97.85101413726807\n",
      "bus  :  99.83701705932617\n"
     ]
    }
   ],
   "source": [
    "for eachObject in detections:\n",
    "    print(eachObject[\"name\"] , \" : \" , eachObject[\"percentage_probability\"] )"
   ]
  },
  {
   "cell_type": "code",
   "execution_count": 5,
   "metadata": {},
   "outputs": [],
   "source": [
    "from imageai.Detection.Custom import DetectionModelTrainer"
   ]
  },
  {
   "cell_type": "code",
   "execution_count": 6,
   "metadata": {},
   "outputs": [],
   "source": [
    "trainer = DetectionModelTrainer()\n",
    "trainer.setModelTypeAsYOLOv3()"
   ]
  },
  {
   "cell_type": "code",
   "execution_count": 12,
   "metadata": {},
   "outputs": [
    {
     "name": "stdout",
     "output_type": "stream",
     "text": [
      "Generating anchor boxes for training images and annotation...\n",
      "Average IOU for 9 anchors: 0.83\n",
      "Anchor Boxes generated.\n",
      "Detection configuration saved in  BCCD/json/detection_config.json\n"
     ]
    },
    {
     "name": "stderr",
     "output_type": "stream",
     "text": [
      "/Library/Frameworks/Python.framework/Versions/3.6/lib/python3.6/site-packages/keras/callbacks.py:1065: UserWarning: `epsilon` argument is deprecated and will be removed, use `min_delta` instead.\n",
      "  warnings.warn('`epsilon` argument is deprecated and '\n"
     ]
    },
    {
     "name": "stdout",
     "output_type": "stream",
     "text": [
      "Epoch 1/1\n",
      "720/720 [==============================] - 7275s 10s/step - loss: 18.0480 - yolo_layer_16_loss: 5.0383 - yolo_layer_17_loss: 6.4769 - yolo_layer_18_loss: 6.5328 - val_loss: 20.1795 - val_yolo_layer_16_loss: 5.6267 - val_yolo_layer_17_loss: 6.9689 - val_yolo_layer_18_loss: 7.5839\n"
     ]
    }
   ],
   "source": [
    "trainer.setDataDirectory(data_directory= \"BCCD\")\n",
    "trainer.setTrainConfig(object_names_array= [\"usb\",\"charge\",\"done\",\"batt+\",\"batt-\",\"rprog\"], \n",
    "        batch_size=4, num_experiments=1, \n",
    "        # train_from_pretrained_model=\"pretrained-yolov3.h5\")\n",
    "        train_from_pretrained_model=\"/Users/wbchoi/PycharmProjects/ai_projects/ImageAI_test/BCCD/models/map_0_dot_9553.h5\")\n",
    "\n",
    "trainer.trainModel()"
   ]
  },
  {
   "cell_type": "code",
   "execution_count": 7,
   "metadata": {},
   "outputs": [],
   "source": [
    "trainer = DetectionModelTrainer()\n",
    "trainer.setModelTypeAsYOLOv3()\n",
    "trainer.setDataDirectory(data_directory=\"BCCD\")"
   ]
  },
  {
   "cell_type": "code",
   "execution_count": 13,
   "metadata": {},
   "outputs": [
    {
     "name": "stdout",
     "output_type": "stream",
     "text": [
      "Starting Model evaluation....\n",
      "Model File:  /Users/wbchoi/PycharmProjects/ai_projects/ImageAI_test/BCCD/models/map_0_dot_9553.h5 \n",
      "\n",
      "Using IoU :  0.5\n",
      "Using Object Threshold :  0.3\n",
      "Using Non-Maximum Suppression :  0.5\n",
      "batt+: 0.9656\n",
      "batt-: 0.9378\n",
      "charge: 0.9334\n",
      "done: 0.9814\n",
      "rprog: 0.9157\n",
      "usb: 1.0000\n",
      "mAP: 0.9557\n",
      "===============================\n"
     ]
    }
   ],
   "source": [
    "metrics = trainer.evaluateModel(\n",
    "    model_path=\"/Users/wbchoi/PycharmProjects/ai_projects/ImageAI_test/BCCD/models/map_0_dot_9553.h5\", \n",
    "    json_path=\"/Users/wbchoi/PycharmProjects/ai_projects/ImageAI_test/BCCD/json/detection_config.json\", \n",
    "    iou_threshold=0.5, object_threshold=0.3, nms_threshold=0.5)"
   ]
  },
  {
   "cell_type": "code",
   "execution_count": 14,
   "metadata": {},
   "outputs": [
    {
     "data": {
      "text/plain": [
       "[{'model_file': '/Users/wbchoi/PycharmProjects/ai_projects/ImageAI_test/BCCD/models/map_0_dot_9553.h5',\n",
       "  'using_iou': 0.5,\n",
       "  'using_object_threshold': 0.3,\n",
       "  'using_non_maximum_suppression': 0.5,\n",
       "  'average_precision': {'batt+': 0.9656420920164757,\n",
       "   'batt-': 0.9378146317299348,\n",
       "   'charge': 0.9334435565702688,\n",
       "   'done': 0.9814319027787357,\n",
       "   'rprog': 0.9157133695763103,\n",
       "   'usb': 1.0},\n",
       "  'map': 0.9556742587786209}]"
      ]
     },
     "execution_count": 14,
     "metadata": {},
     "output_type": "execute_result"
    }
   ],
   "source": [
    "metrics"
   ]
  },
  {
   "cell_type": "code",
   "execution_count": null,
   "metadata": {},
   "outputs": [],
   "source": []
  }
 ],
 "metadata": {
  "kernelspec": {
   "display_name": "Python 3",
   "language": "python",
   "name": "python3"
  },
  "language_info": {
   "codemirror_mode": {
    "name": "ipython",
    "version": 3
   },
   "file_extension": ".py",
   "mimetype": "text/x-python",
   "name": "python",
   "nbconvert_exporter": "python",
   "pygments_lexer": "ipython3",
   "version": "3.7.3"
  }
 },
 "nbformat": 4,
 "nbformat_minor": 2
}
